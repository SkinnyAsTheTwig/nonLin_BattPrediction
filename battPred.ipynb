{
 "cells": [
  {
   "cell_type": "code",
   "execution_count": null,
   "metadata": {},
   "outputs": [],
   "source": [
    "import pandas as pd\n",
    "import numpy as np\n",
    "from sklearn.preprocessing import MinMaxScaler"
   ]
  },
  {
   "cell_type": "markdown",
   "metadata": {},
   "source": [
    "## Import the Datasets and Scale Them"
   ]
  },
  {
   "cell_type": "markdown",
   "metadata": {},
   "source": [
    "1. Put all dataset names from the datasets folder here\n",
    "2. change how many timesteps are desired\n",
    "3. choose the percentage of data that becomes test data"
   ]
  },
  {
   "cell_type": "code",
   "execution_count": null,
   "metadata": {},
   "outputs": [],
   "source": [
    "datasets = [\n",
    "    '28mar18roof.csv',\n",
    "    'finaltest_battery34_fieldtest_trail2.csv',\n",
    "    'finaltest_battery34_fieldtest_trial2.csv',\n",
    "    'finaltest_battery34_fieldtest_trial3.csv',\n",
    "    'finaltest_battery34_fieldtest_trial4.csv',\n",
    "    'finaltest_battery34_fieldtest_trial5.csv',\n",
    "    'finaltest_battery34_rooftop1.csv',\n",
    "    'finaltest_battery34_rooftop2.csv',\n",
    "    'finaltest_battery34_rooftop3.csv',\n",
    "    'finaltesting_battery34_fieldtest.csv',\n",
    "    'test_25JAN_rooftop.csv']\n",
    "datasets = ['datasets/'+ name for name in datasets]\n",
    "timesteps = 5 * 10   \n",
    "test_data_percentage = 0.1   # 10% of the data set "
   ]
  },
  {
   "cell_type": "code",
   "execution_count": null,
   "metadata": {},
   "outputs": [],
   "source": [
    "from data_process import preprocess_and_scale\n",
    "tr_sets, test_sets, scaler = preprocess_and_scale(\n",
    "                                    datasets,\n",
    "                                    test_data_percentage,\n",
    "                                    timesteps\n",
    "                                    )"
   ]
  },
  {
   "cell_type": "markdown",
   "metadata": {},
   "source": [
    "## Building the RNN"
   ]
  },
  {
   "cell_type": "code",
   "execution_count": null,
   "metadata": {},
   "outputs": [],
   "source": [
    "from keras.models import Sequential\n",
    "from keras.layers import Dense\n",
    "from keras.layers import LSTM\n",
    "from keras.layers import Dropout"
   ]
  },
  {
   "cell_type": "markdown",
   "metadata": {},
   "source": [
    "- Build the Structure of the RNN and compile it"
   ]
  },
  {
   "cell_type": "code",
   "execution_count": null,
   "metadata": {},
   "outputs": [],
   "source": [
    "model = Sequential()\n",
    "\n",
    "# add input layer with some dropout regularisation\n",
    "model.add(LSTM(units=50, \n",
    "              return_sequences=True, \n",
    "              input_shape=(timesteps,6)))\n",
    "model.add(Dropout(0.2))\n",
    "\n",
    "# add 3 hidden layers\n",
    "model.add(LSTM(units=50, \n",
    "               return_sequences=True))\n",
    "model.add(Dropout(0.2))\n",
    "model.add(LSTM(units=50, \n",
    "               return_sequences=True))\n",
    "model.add(Dropout(0.2))\n",
    "model.add(LSTM(units=50, \n",
    "               return_sequences=False))\n",
    "model.add(Dropout(0.2))\n",
    "\n",
    "# add output layer\n",
    "model.add(Dense(units=1))\n",
    "\n",
    "model.compile(optimizer='rmsprop', loss='mean_squared_error')"
   ]
  },
  {
   "cell_type": "markdown",
   "metadata": {},
   "source": [
    "## Training the Model"
   ]
  },
  {
   "cell_type": "code",
   "execution_count": null,
   "metadata": {},
   "outputs": [],
   "source": [
    "for training_set in tr_sets:\n",
    "    x_train = training_set[0]\n",
    "    y_train = training_set[1]\n",
    "    model.fit(x_train, y_train, epochs = 50)#, batch_size=64)"
   ]
  },
  {
   "cell_type": "code",
   "execution_count": null,
   "metadata": {},
   "outputs": [],
   "source": []
  }
 ],
 "metadata": {
  "kernelspec": {
   "display_name": "Python 3",
   "language": "python",
   "name": "python3"
  },
  "language_info": {
   "codemirror_mode": {
    "name": "ipython",
    "version": 3
   },
   "file_extension": ".py",
   "mimetype": "text/x-python",
   "name": "python",
   "nbconvert_exporter": "python",
   "pygments_lexer": "ipython3",
   "version": "3.6.4"
  },
  "toc": {
   "base_numbering": 1,
   "nav_menu": {},
   "number_sections": true,
   "sideBar": true,
   "skip_h1_title": false,
   "title_cell": "Table of Contents",
   "title_sidebar": "Contents",
   "toc_cell": false,
   "toc_position": {},
   "toc_section_display": true,
   "toc_window_display": false
  }
 },
 "nbformat": 4,
 "nbformat_minor": 2
}
