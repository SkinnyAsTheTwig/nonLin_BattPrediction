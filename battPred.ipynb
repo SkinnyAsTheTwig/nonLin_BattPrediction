{
 "cells": [
  {
   "cell_type": "code",
   "execution_count": 1,
   "metadata": {},
   "outputs": [],
   "source": [
    "import pandas as pd\n",
    "import numpy as np\n",
    "from sklearn.preprocessing import MinMaxScaler"
   ]
  },
  {
   "cell_type": "markdown",
   "metadata": {},
   "source": [
    "## Import the Datasets and Scale Them"
   ]
  },
  {
   "cell_type": "markdown",
   "metadata": {},
   "source": [
    "1. Put all dataset names from the datasets folder here\n",
    "2. change how many timesteps are desired\n",
    "3. choose the percentage of data that becomes test data"
   ]
  },
  {
   "cell_type": "code",
   "execution_count": 2,
   "metadata": {},
   "outputs": [],
   "source": [
    "datasets = [\n",
    "    '28mar18roof.csv',\n",
    "    'finaltest_battery34_fieldtest_trail2.csv',\n",
    "    'finaltest_battery34_fieldtest_trial2.csv',\n",
    "    'finaltest_battery34_fieldtest_trial3.csv',\n",
    "    'finaltest_battery34_fieldtest_trial4.csv',\n",
    "    'finaltest_battery34_fieldtest_trial5.csv',\n",
    "    'finaltest_battery34_rooftop1.csv',\n",
    "    'finaltest_battery34_rooftop2.csv',\n",
    "    'finaltest_battery34_rooftop3.csv',\n",
    "    'finaltesting_battery34_fieldtest.csv',\n",
    "    'test_25JAN_rooftop.csv']\n",
    "datasets = ['datasets/'+ name for name in datasets]\n",
    "timesteps = 5 * 10   \n",
    "test_data_percentage = 0.1   # 10% of the data set "
   ]
  },
  {
   "cell_type": "code",
   "execution_count": 3,
   "metadata": {},
   "outputs": [
    {
     "name": "stdout",
     "output_type": "stream",
     "text": [
      "28mar18roof.csv will be used\n",
      "finaltest_battery34_fieldtest_trail2.csv will be used\n",
      "finaltest_battery34_fieldtest_trial2.csv will be used\n",
      "finaltest_battery34_fieldtest_trial3.csv will be used\n",
      "finaltest_battery34_fieldtest_trial4.csv will be used\n",
      "finaltest_battery34_fieldtest_trial5.csv will be used\n",
      "finaltest_battery34_rooftop1.csv is not a usable dataset\n",
      "finaltest_battery34_rooftop2.csv is not a usable dataset\n",
      "finaltest_battery34_rooftop3.csv is not a usable dataset\n",
      "finaltesting_battery34_fieldtest.csv is not a usable dataset\n",
      "test_25JAN_rooftop.csv is not a usable dataset\n",
      "scaling datasets\n",
      "(6, 8219, 50)\n",
      "(6, 777, 50)\n",
      "(6, 358, 50)\n",
      "(6, 20530, 50)\n",
      "(6, 2008, 50)\n",
      "(6, 14266, 50)\n",
      "(6, 1382, 50)\n",
      "(6, 391, 50)\n",
      "(6, 21741, 50)\n",
      "(6, 2130, 50)\n",
      "dataset scaling complete\n"
     ]
    }
   ],
   "source": [
    "from data_process import preprocess_and_scale\n",
    "tr_sets, test_sets, scaler = preprocess_and_scale(\n",
    "                                    datasets,\n",
    "                                    test_data_percentage,\n",
    "                                    timesteps\n",
    "                                    )"
   ]
  },
  {
   "cell_type": "markdown",
   "metadata": {},
   "source": [
    "## Building the RNN"
   ]
  },
  {
   "cell_type": "code",
   "execution_count": 4,
   "metadata": {},
   "outputs": [
    {
     "name": "stderr",
     "output_type": "stream",
     "text": [
      "/opt/conda/lib/python3.6/site-packages/h5py/__init__.py:36: FutureWarning: Conversion of the second argument of issubdtype from `float` to `np.floating` is deprecated. In future, it will be treated as `np.float64 == np.dtype(float).type`.\n",
      "  from ._conv import register_converters as _register_converters\n",
      "Using TensorFlow backend.\n"
     ]
    }
   ],
   "source": [
    "from keras.models import Sequential\n",
    "from keras.layers import Dense\n",
    "from keras.layers import LSTM\n",
    "from keras.layers import Dropout"
   ]
  },
  {
   "cell_type": "markdown",
   "metadata": {},
   "source": [
    "- Build the Structure of the RNN and compile it"
   ]
  },
  {
   "cell_type": "code",
   "execution_count": null,
   "metadata": {},
   "outputs": [],
   "source": [
    "model = Sequential()\n",
    "\n",
    "# add input layer with some dropout regularisation\n",
    "model.add(LSTM(units=50, \n",
    "              return_sequences=True, \n",
    "              input_shape=(timesteps,6)))\n",
    "model.add(Dropout(0.2))\n",
    "\n",
    "# add 3 hidden layers\n",
    "model.add(LSTM(units=50, \n",
    "               return_sequences=True))\n",
    "model.add(Dropout(0.2))\n",
    "model.add(LSTM(units=50, \n",
    "               return_sequences=True))\n",
    "model.add(Dropout(0.2))\n",
    "model.add(LSTM(units=50, \n",
    "               return_sequences=False))\n",
    "model.add(Dropout(0.2))\n",
    "\n",
    "# add output layer\n",
    "model.add(Dense(units=1))\n",
    "\n",
    "model.compile(optimizer='rmsprop', loss='mean_squared_error')"
   ]
  },
  {
   "cell_type": "markdown",
   "metadata": {},
   "source": [
    "## Training the Model"
   ]
  },
  {
   "cell_type": "code",
   "execution_count": null,
   "metadata": {},
   "outputs": [
    {
     "name": "stdout",
     "output_type": "stream",
     "text": [
      "Epoch 1/50\n",
      "8219/8219 [==============================] - 12s 1ms/step - loss: 0.1581\n",
      "Epoch 2/50\n",
      "8219/8219 [==============================] - 11s 1ms/step - loss: 0.1022\n",
      "Epoch 3/50\n",
      "8219/8219 [==============================] - 11s 1ms/step - loss: 0.0940\n",
      "Epoch 4/50\n",
      "8219/8219 [==============================] - 11s 1ms/step - loss: 0.0851\n",
      "Epoch 5/50\n",
      "4200/8219 [==============>...............] - ETA: 5s - loss: 0.0760"
     ]
    }
   ],
   "source": [
    "for training_set in tr_sets:\n",
    "    x_train = training_set[0]\n",
    "    y_train = training_set[1]\n",
    "    model.fit(x_train, y_train, epochs = 50, batch_size=150)"
   ]
  },
  {
   "cell_type": "code",
   "execution_count": null,
   "metadata": {},
   "outputs": [],
   "source": []
  }
 ],
 "metadata": {
  "kernelspec": {
   "display_name": "Python 3",
   "language": "python",
   "name": "python3"
  },
  "language_info": {
   "codemirror_mode": {
    "name": "ipython",
    "version": 3
   },
   "file_extension": ".py",
   "mimetype": "text/x-python",
   "name": "python",
   "nbconvert_exporter": "python",
   "pygments_lexer": "ipython3",
   "version": "3.6.4"
  },
  "toc": {
   "base_numbering": 1,
   "nav_menu": {},
   "number_sections": true,
   "sideBar": true,
   "skip_h1_title": false,
   "title_cell": "Table of Contents",
   "title_sidebar": "Contents",
   "toc_cell": false,
   "toc_position": {},
   "toc_section_display": true,
   "toc_window_display": false
  }
 },
 "nbformat": 4,
 "nbformat_minor": 2
}
