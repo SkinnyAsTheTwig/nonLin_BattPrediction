{
 "cells": [
  {
   "cell_type": "code",
   "execution_count": null,
   "metadata": {},
   "outputs": [],
   "source": [
    "import pandas as pd\n",
    "import numpy as np\n",
    "from sklearn.preprocessing import MinMaxScaler"
   ]
  },
  {
   "cell_type": "markdown",
   "metadata": {},
   "source": [
    "## Import the Datasets and Scale Them"
   ]
  },
  {
   "cell_type": "markdown",
   "metadata": {},
   "source": [
    "1. Put all dataset names from the datasets folder here\n",
    "2. change how many timesteps are desired\n",
    "3. choose the percentage of data that becomes test data"
   ]
  },
  {
   "cell_type": "code",
   "execution_count": null,
   "metadata": {},
   "outputs": [],
   "source": [
    "datasets = [\n",
    "    '28mar18roof.csv',\n",
    "    'finaltest_battery34_fieldtest_trail2.csv',\n",
    "    'finaltest_battery34_fieldtest_trial2.csv',\n",
    "    'finaltest_battery34_fieldtest_trial3.csv',\n",
    "    'finaltest_battery34_fieldtest_trial4.csv',\n",
    "    'finaltest_battery34_fieldtest_trial5.csv',\n",
    "    'finaltest_battery34_rooftop1.csv',\n",
    "    'finaltest_battery34_rooftop2.csv',\n",
    "    'finaltest_battery34_rooftop3.csv',\n",
    "    'finaltesting_battery34_fieldtest.csv',\n",
    "    'test_25JAN_rooftop.csv']\n",
    "datasets = ['datasets/'+ name for name in datasets]\n",
    "timesteps = 5 * 10   \n",
    "test_data_percentage = 0.1   # 10% of the data set "
   ]
  },
  {
   "cell_type": "code",
   "execution_count": null,
   "metadata": {},
   "outputs": [],
   "source": [
    "from data_process import prepare\n",
    "x_train, y_train, x_test, y_test, scaler = prepare(\n",
    "                                    datasets,\n",
    "                                    test_data_percentage,\n",
    "                                    timesteps\n",
    "                                    )"
   ]
  },
  {
   "cell_type": "markdown",
   "metadata": {},
   "source": [
    "## Building the RNN"
   ]
  },
  {
   "cell_type": "code",
   "execution_count": null,
   "metadata": {},
   "outputs": [],
   "source": [
    "from keras.models import Sequential\n",
    "from keras.layers import Dense\n",
    "from keras.layers import LSTM\n",
    "from keras.layers import Dropout\n",
    "from keras.layers import Activation"
   ]
  },
  {
   "cell_type": "markdown",
   "metadata": {},
   "source": [
    "- Build the Structure of the RNN and compile it"
   ]
  },
  {
   "cell_type": "code",
   "execution_count": null,
   "metadata": {},
   "outputs": [],
   "source": [
    "model = Sequential()\n",
    "\n",
    "# add input layer with some dropout regularisation\n",
    "model.add(LSTM(units=50, \n",
    "              return_sequences=True, \n",
    "              input_shape=(timesteps,6)))\n",
    "model.add(Dropout(0.2))\n",
    "\n",
    "# add 3 hidden layers\n",
    "model.add(LSTM(units=50, \n",
    "               return_sequences=True))\n",
    "model.add(Dropout(0.2))\n",
    "model.add(LSTM(units=50, \n",
    "               return_sequences=True))\n",
    "model.add(Dropout(0.2))\n",
    "model.add(LSTM(units=50, \n",
    "               return_sequences=False))\n",
    "model.add(Dropout(0.2))\n",
    "\n",
    "# add output layer\n",
    "model.add(Dense(units=1))\n",
    "#model.add(Activation('sigmoid'))\n",
    "\n",
    "model.compile(optimizer='rmsprop', loss='mean_squared_error')"
   ]
  },
  {
   "cell_type": "markdown",
   "metadata": {},
   "source": [
    "## Training the Model"
   ]
  },
  {
   "cell_type": "code",
   "execution_count": null,
   "metadata": {
    "scrolled": true
   },
   "outputs": [],
   "source": [
    "size = x_train.shape[0]\n",
    "print(size, 'data points')\n",
    "model.fit(x_train, y_train, epochs = 100, batch_size=150)"
   ]
  },
  {
   "cell_type": "markdown",
   "metadata": {},
   "source": [
    "- Write the Model to Disk"
   ]
  },
  {
   "cell_type": "code",
   "execution_count": null,
   "metadata": {},
   "outputs": [],
   "source": [
    "from keras.models import model_from_json\n",
    "model_json = model.to_json()\n",
    "with open(\"battery_model.json\",\"w\") as json_file:\n",
    "    json_file.write(model_json)\n",
    "model.save_weights(\"battery_model.h5\")"
   ]
  },
  {
   "cell_type": "markdown",
   "metadata": {},
   "source": [
    "- Read Model from Disk"
   ]
  },
  {
   "cell_type": "code",
   "execution_count": null,
   "metadata": {},
   "outputs": [],
   "source": [
    "json_file = open('battery_model.json', 'r')\n",
    "loaded_model_json = json_file.read()\n",
    "json_file.close()\n",
    "model = model_from_json(loaded_model_json)\n",
    "model.load_weights('battery_model.h5')\n",
    "model.compile(optimizer='rmsprop', loss='mean_squared_error')"
   ]
  },
  {
   "cell_type": "markdown",
   "metadata": {},
   "source": [
    "## Testing the Model"
   ]
  },
  {
   "cell_type": "markdown",
   "metadata": {},
   "source": [
    "- Test for accuracy accros all test data"
   ]
  },
  {
   "cell_type": "code",
   "execution_count": null,
   "metadata": {},
   "outputs": [],
   "source": [
    "#TODO: scaler.inverse_transform the output\n",
    "\n",
    "score = model.evaluate(x_test, y_test, verbose=1)\n",
    "#print(\"%s: %.2f%%\" % (model.metrics_names[1], score[1]*100))\n",
    "print('\\t'+ str(model.metrics_names))\n",
    "print('\\t'+str(score))"
   ]
  },
  {
   "cell_type": "markdown",
   "metadata": {},
   "source": [
    "- Test for accuracy in each 10th percentile of completeness"
   ]
  },
  {
   "cell_type": "code",
   "execution_count": null,
   "metadata": {},
   "outputs": [],
   "source": []
  },
  {
   "cell_type": "markdown",
   "metadata": {},
   "source": [
    "## HyperOptimization"
   ]
  },
  {
   "cell_type": "code",
   "execution_count": null,
   "metadata": {},
   "outputs": [],
   "source": [
    "from hyperopt import Trials, STATUS_OK, tpe\n",
    "from hyperas import optim\n",
    "from hyperas.distributions import choice, uniform, conditional"
   ]
  },
  {
   "cell_type": "code",
   "execution_count": null,
   "metadata": {},
   "outputs": [],
   "source": [
    "def model(x_train, y_train, x_test, y_test):\n",
    "    \"\"\"\n",
    "    Function to optimize model:\n",
    "    \n",
    "    :returns: dict() with two elements\n",
    "        - loss: numeric evaluation metric to minimize\n",
    "        - status: STATUS_OK unless desire otherwise\n",
    "        - model: keras model to use again\n",
    "    \"\"\"\n",
    "    "
   ]
  }
 ],
 "metadata": {
  "kernelspec": {
   "display_name": "Python 3",
   "language": "python",
   "name": "python3"
  },
  "language_info": {
   "codemirror_mode": {
    "name": "ipython",
    "version": 3
   },
   "file_extension": ".py",
   "mimetype": "text/x-python",
   "name": "python",
   "nbconvert_exporter": "python",
   "pygments_lexer": "ipython3",
   "version": "3.6.4"
  },
  "toc": {
   "base_numbering": 1,
   "nav_menu": {},
   "number_sections": true,
   "sideBar": true,
   "skip_h1_title": false,
   "title_cell": "Table of Contents",
   "title_sidebar": "Contents",
   "toc_cell": false,
   "toc_position": {},
   "toc_section_display": true,
   "toc_window_display": false
  }
 },
 "nbformat": 4,
 "nbformat_minor": 2
}
